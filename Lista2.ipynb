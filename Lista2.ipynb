{
 "cells": [
  {
   "cell_type": "code",
   "execution_count": 18,
   "metadata": {},
   "outputs": [
    {
     "name": "stdout",
     "output_type": "stream",
     "text": [
      "Heitetään viisi noppaa: [2, 2, 6, 2, 6]\n",
      "Noppien summa: 18\n",
      "Suurin nopan silmäluku: 6\n"
     ]
    }
   ],
   "source": [
    "import random\n",
    "thrownDiceNumbers = []\n",
    "for _ in range(5):\n",
    "    thrownDiceNumbers.append(random.randint(1, 6))\n",
    "sumDiceNum = sum(thrownDiceNumbers)\n",
    "maxDiceValue = max(thrownDiceNumbers)\n",
    "\n",
    "print(f\"Heitetään viisi noppaa: {thrownDiceNumbers}\")\n",
    "print(f\"Noppien summa: {sumDiceNum}\")\n",
    "print(f\"Suurin nopan silmäluku: {maxDiceValue}\")"
   ]
  }
 ],
 "metadata": {
  "kernelspec": {
   "display_name": "Python 3",
   "language": "python",
   "name": "python3"
  },
  "language_info": {
   "codemirror_mode": {
    "name": "ipython",
    "version": 3
   },
   "file_extension": ".py",
   "mimetype": "text/x-python",
   "name": "python",
   "nbconvert_exporter": "python",
   "pygments_lexer": "ipython3",
   "version": "3.11.4"
  },
  "orig_nbformat": 4
 },
 "nbformat": 4,
 "nbformat_minor": 2
}
