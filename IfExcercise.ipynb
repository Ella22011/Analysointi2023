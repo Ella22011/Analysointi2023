{
 "cells": [
  {
   "cell_type": "code",
   "execution_count": 2,
   "metadata": {},
   "outputs": [
    {
     "name": "stdout",
     "output_type": "stream",
     "text": [
      "Numbers 1 and 2 are not equal\n",
      "Numbers 2 and 3 are not equal\n",
      "Some of the numbers are equal\n",
      "4 is greater than 3 and 3.\n",
      "Name 1 and name 3 are the same name.\n",
      "Name 1 and name 2 are different names.\n"
     ]
    }
   ],
   "source": [
    "num1 = input(\"Give a number\")\n",
    "num2 = input(\"Give a second number\")\n",
    "num3 = input(\"Give a third number\")\n",
    "\n",
    "if num1 == num2:\n",
    "    print(\"Numbers 1 and 2 are equal\")\n",
    "if num1 > num2:\n",
    "    print(\"Number 1 is greater than number 2\")\n",
    "if num1 >= num2:\n",
    "    print(\"Number 1 is greater than or equal to number 2\")\n",
    "if num1 != num2:\n",
    "    print(\"Numbers 1 and 2 are not equal\")\n",
    "if num1 == num2 and num2 == num3:\n",
    "    print(\"All numbers are equal\")\n",
    "if num2 != num3:\n",
    "    print(\"Numbers 2 and 3 are not equal\")\n",
    "if num1 == num2 or num2 == num3 or num1 == num3:\n",
    "    print(\"Some of the numbers are equal\")\n",
    "if num1 > num2:\n",
    "    print(f\"{num1} is greater than {num2}.\")\n",
    "elif num2 > num3:\n",
    "    print(f\"{num2} is greater than {num3} and {num1}.\")\n",
    "else:\n",
    "    print(f\"{num3} is greater than {num2} and {num1}.\")\n",
    "\n",
    "\n",
    "\n",
    "name1 = \"Roosa\"\n",
    "name2 = \"Mauno\"\n",
    "name3 = \"Roosa\"\n",
    "\n",
    "if name1 == name2:\n",
    "    print(\"Name 1 and name 2 are the same name.\")\n",
    "elif name1 == name3:\n",
    "    print(\"Name 1 and name 3 are the same name.\")\n",
    "if name1 != name2:\n",
    "    print(\"Name 1 and name 2 are different names.\")\n"
   ]
  }
 ],
 "metadata": {
  "kernelspec": {
   "display_name": "Python 3",
   "language": "python",
   "name": "python3"
  },
  "language_info": {
   "codemirror_mode": {
    "name": "ipython",
    "version": 3
   },
   "file_extension": ".py",
   "mimetype": "text/x-python",
   "name": "python",
   "nbconvert_exporter": "python",
   "pygments_lexer": "ipython3",
   "version": "3.11.4"
  },
  "orig_nbformat": 4
 },
 "nbformat": 4,
 "nbformat_minor": 2
}
