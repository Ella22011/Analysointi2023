{
 "cells": [
  {
   "cell_type": "code",
   "execution_count": 6,
   "metadata": {},
   "outputs": [
    {
     "name": "stdout",
     "output_type": "stream",
     "text": [
      "Incorrect, try again.\n",
      "Incorrect, try again.\n",
      "Congrats, that is right! You guessed 3 times\n"
     ]
    }
   ],
   "source": [
    "correctName = \"Iina\"\n",
    "guessCount = 0\n",
    "\n",
    "while True:\n",
    "    guess = input(\"Guess my name\")\n",
    "    guessCount += 1\n",
    "    if guess.lower() == correctName.lower():\n",
    "        print(f\"Congrats, that is right! You guessed {guessCount} times\")\n",
    "        break\n",
    "    else:\n",
    "        print(\"Incorrect, try again or type Quit to quit.\")\n",
    "\n",
    "\n"
   ]
  }
 ],
 "metadata": {
  "kernelspec": {
   "display_name": "Python 3",
   "language": "python",
   "name": "python3"
  },
  "language_info": {
   "codemirror_mode": {
    "name": "ipython",
    "version": 3
   },
   "file_extension": ".py",
   "mimetype": "text/x-python",
   "name": "python",
   "nbconvert_exporter": "python",
   "pygments_lexer": "ipython3",
   "version": "3.11.4"
  },
  "orig_nbformat": 4
 },
 "nbformat": 4,
 "nbformat_minor": 2
}
