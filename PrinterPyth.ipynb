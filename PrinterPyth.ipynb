{
 "cells": [
  {
   "cell_type": "code",
   "execution_count": 4,
   "metadata": {},
   "outputs": [
    {
     "name": "stdout",
     "output_type": "stream",
     "text": [
      "Printer App\n",
      "This app was made by: Ella\n",
      "The value of number1 is 8\n",
      "The value of number2 is 5\n",
      "8 * 5 = 40\n",
      "8 - 5 = 3\n",
      "8 / 5 = 1\n"
     ]
    }
   ],
   "source": [
    "creator = \"Ella\"\n",
    "number1, number2 = 8, 5\n",
    "multiplication = number1 * number2\n",
    "substraction = number1 - number2\n",
    "division = number1 // number2\n",
    "\n",
    "print(f\"\"\"Printer App\n",
    "This app was made by: {creator}\"\"\")\n",
    "print(f\"The value of number1 is {number1}\") #print first number\n",
    "print(f\"The value of number2 is {number2}\") \n",
    "print(f\"{number1} * {number2} = {multiplication}\")\n",
    "print(f\"{number1} - {number2} = {substraction}\")\n",
    "print(f\"{number1} / {number2} = {division}\")"
   ]
  },
  {
   "cell_type": "code",
   "execution_count": null,
   "metadata": {},
   "outputs": [],
   "source": []
  }
 ],
 "metadata": {
  "kernelspec": {
   "display_name": "Python 3",
   "language": "python",
   "name": "python3"
  },
  "language_info": {
   "codemirror_mode": {
    "name": "ipython",
    "version": 3
   },
   "file_extension": ".py",
   "mimetype": "text/x-python",
   "name": "python",
   "nbconvert_exporter": "python",
   "pygments_lexer": "ipython3",
   "version": "3.11.4"
  },
  "orig_nbformat": 4
 },
 "nbformat": 4,
 "nbformat_minor": 2
}
