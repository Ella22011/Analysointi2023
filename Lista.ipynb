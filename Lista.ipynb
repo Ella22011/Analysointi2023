{
 "cells": [
  {
   "cell_type": "code",
   "execution_count": 2,
   "metadata": {},
   "outputs": [
    {
     "name": "stdout",
     "output_type": "stream",
     "text": [
      "['table', 'chair']\n"
     ]
    }
   ],
   "source": [
    "furnList = [\"table\", \"chair\", \"shelf\"]\n",
    "print(furnList[0:2])\n",
    "\n",
    "found_sofa = False\n",
    "for item in furnList:\n",
    "    if item == \"sofa\":\n",
    "        print(\"sofa\")\n",
    "        found_sofa = True\n",
    "if not found_sofa:\n",
    "    print(\"sofa not found\")\n",
    "\n"
   ]
  }
 ],
 "metadata": {
  "kernelspec": {
   "display_name": "Python 3",
   "language": "python",
   "name": "python3"
  },
  "language_info": {
   "codemirror_mode": {
    "name": "ipython",
    "version": 3
   },
   "file_extension": ".py",
   "mimetype": "text/x-python",
   "name": "python",
   "nbconvert_exporter": "python",
   "pygments_lexer": "ipython3",
   "version": "3.11.4"
  },
  "orig_nbformat": 4
 },
 "nbformat": 4,
 "nbformat_minor": 2
}
